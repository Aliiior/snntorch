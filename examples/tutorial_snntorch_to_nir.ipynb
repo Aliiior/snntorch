{
 "cells": [
  {
   "cell_type": "code",
   "execution_count": 1,
   "metadata": {},
   "outputs": [],
   "source": [
    "import sys\n",
    "sys.path.insert(0, '/home/arfa/py-spinnaker2/snnTorch')\n",
    "import snntorch as snn\n",
    "import torch\n",
    "import nir\n",
    "from snntorch import export_to_nir, import_from_nir"
   ]
  },
  {
   "cell_type": "markdown",
   "metadata": {},
   "source": [
    "### Generating an example NIR Graph from snntorch model:"
   ]
  },
  {
   "cell_type": "code",
   "execution_count": 2,
   "metadata": {},
   "outputs": [],
   "source": [
    "# 2D sample data \n",
    "sample_data = torch.randn(1, 1, 28, 28)  #input image size is 28x28 and 1 channel #the dimension here is batch_size*number_of_channels*height*width\n",
    "\n",
    "class NetWithAvgPool(torch.nn.Module):\n",
    "    def __init__(self):\n",
    "        super(NetWithAvgPool, self).__init__()\n",
    "        self.conv1 = torch.nn.Conv2d(1, 16, kernel_size=3, stride=1, padding=1)\n",
    "        self.lif1 = snn.Leaky(beta=0.9, init_hidden=True)\n",
    "        self.fc1 = torch.nn.Linear(28*28*16 // 4, 500)  # Adjusting input size after pooling layer\n",
    "        self.lif2 = snn.Leaky(beta=0.9, init_hidden=True, output=True)\n",
    "\n",
    "    def forward(self, x):\n",
    "        x = torch.nn.functional.avg_pool2d(self.conv1(x), kernel_size=2, stride=2)  #  kernel_size=2 and stride=2 for avg_pool2d\n",
    "        x = x.view(-1, 28*28*16 // 4)  # Adjusting the view based on the output shape after pooling\n",
    "        x = self.lif1(x)\n",
    "        x = self.fc1(x)\n",
    "        x = self.lif2(x)\n",
    "        return x\n",
    "\n",
    "net_with_avgpool = NetWithAvgPool()\n",
    "nir_graphtest = export_to_nir(net_with_avgpool, sample_data, ignore_dims=[0])"
   ]
  },
  {
   "cell_type": "code",
   "execution_count": null,
   "metadata": {},
   "outputs": [],
   "source": [
    "nir_graphtest.infer_types()"
   ]
  },
  {
   "cell_type": "code",
   "execution_count": null,
   "metadata": {},
   "outputs": [],
   "source": [
    "nir.write(f\"/home/arfa/py-spinnaker2/snnTorch/examples/testconv2d+avgpool.nir\", nir_graphtest)"
   ]
  },
  {
   "cell_type": "code",
   "execution_count": 3,
   "metadata": {},
   "outputs": [],
   "source": [
    "nir_graph = nir.read(\"testconv2d+avgpool.nir\")"
   ]
  },
  {
   "cell_type": "code",
   "execution_count": null,
   "metadata": {},
   "outputs": [],
   "source": [
    "#dict_keys(['conv1', 'fc1', 'input', 'lif1', 'lif2', 'output'])\n",
    "#this is the node that is causing the error , because it has input_type={'input': array([] ,, and I guess also output_type={'output': array([]\n",
    "nir_graph.nodes['lif1']"
   ]
  },
  {
   "cell_type": "code",
   "execution_count": 4,
   "metadata": {},
   "outputs": [
    {
     "data": {
      "text/plain": [
       "LIF(tau=0.0009999997615814777, r=9.999997615814776, v_leak=0.0, v_threshold=1.0, input_type={'input': array([], dtype=float64)}, output_type={'output': array([], dtype=float64)}, metadata={})"
      ]
     },
     "execution_count": 4,
     "metadata": {},
     "output_type": "execute_result"
    }
   ],
   "source": [
    "nir_graph.nodes['lif1']"
   ]
  },
  {
   "cell_type": "code",
   "execution_count": null,
   "metadata": {},
   "outputs": [],
   "source": [
    "nir_graph.nodes.keys()"
   ]
  },
  {
   "cell_type": "code",
   "execution_count": null,
   "metadata": {},
   "outputs": [],
   "source": [
    "nir_graph.edges"
   ]
  },
  {
   "cell_type": "markdown",
   "metadata": {},
   "source": [
    "### Converting the NIR graph to Spinnaker2:"
   ]
  },
  {
   "cell_type": "markdown",
   "metadata": {},
   "source": [
    "1. Load NIR graph"
   ]
  },
  {
   "cell_type": "code",
   "execution_count": 5,
   "metadata": {},
   "outputs": [],
   "source": [
    "import nir\n",
    "from spinnaker2 import hardware, s2_nir\n",
    "\n",
    "model_path = \"/home/arfa/py-spinnaker2/snnTorch/examples/testconv2d+avgpool.nir\"\n",
    "nir_graph = nir.read(model_path)"
   ]
  },
  {
   "cell_type": "markdown",
   "metadata": {},
   "source": [
    "2. Convert NIR graph into py-spinnaker2 network"
   ]
  },
  {
   "cell_type": "code",
   "execution_count": 6,
   "metadata": {},
   "outputs": [
    {
     "data": {
      "text/plain": [
       "[('fc1', 'lif2'),\n",
       " ('lif2', 'output'),\n",
       " ('lif1', 'fc1'),\n",
       " ('conv1', 'output'),\n",
       " ('input', 'conv1')]"
      ]
     },
     "execution_count": 6,
     "metadata": {},
     "output_type": "execute_result"
    }
   ],
   "source": [
    "nir_graph.edges"
   ]
  },
  {
   "cell_type": "code",
   "execution_count": 7,
   "metadata": {},
   "outputs": [
    {
     "name": "stderr",
     "output_type": "stream",
     "text": [
      "INFO:spinnaker2.s2_nir:from_nir(): create spinnaker2.Network from NIR graph\n"
     ]
    },
    {
     "name": "stdout",
     "output_type": "stream",
     "text": [
      "Node 'conv1'\n",
      "Got <class 'nir.ir.conv.Conv2d'>\n",
      "input:  [('input', <class 'nir.ir.graph.Input'>)]\n",
      "output:  [('output', <class 'nir.ir.graph.Output'>)]\n",
      "\n",
      "Node 'fc1'\n",
      "Got <class 'nir.ir.linear.Affine'>\n",
      "input:  [('lif1', <class 'nir.ir.neuron.LIF'>)]\n",
      "output:  [('lif2', <class 'nir.ir.neuron.LIF'>)]\n",
      "\n",
      "Node 'input'\n",
      "Got <class 'nir.ir.graph.Input'>\n",
      "this is the size of the population: 784\n",
      "input:  []\n",
      "output:  [('conv1', <class 'nir.ir.conv.Conv2d'>)]\n",
      "\n",
      "Node 'lif1'\n",
      "Got <class 'nir.ir.neuron.LIF'>\n",
      "this is the accumulated bias: [0.]\n",
      "record:  []\n",
      "for node: LIF(tau=0.0009999997615814777, r=9.999997615814776, v_leak=0.0, v_threshold=1.0, input_type={'input': array([], dtype=float64)}, output_type={'output': array([], dtype=float64)}, metadata={}) this is the input_type: [250]\n",
      "this is the input shape: [250]\n",
      "and this is the size: 250\n",
      "[250] -> []\n",
      "this is the size of the population: 250\n",
      "this is the created population: <spinnaker2.snn.Population object at 0x7f5391397d90>\n",
      "input:  []\n",
      "output:  [('fc1', <class 'nir.ir.linear.Affine'>)]\n",
      "\n",
      "Node 'lif2'\n",
      "Got <class 'nir.ir.neuron.LIF'>\n"
     ]
    },
    {
     "ename": "ValueError",
     "evalue": "non-broadcastable output operand with shape () doesn't match the broadcast shape (500,)",
     "output_type": "error",
     "traceback": [
      "\u001b[0;31m---------------------------------------------------------------------------\u001b[0m",
      "\u001b[0;31mValueError\u001b[0m                                Traceback (most recent call last)",
      "\u001b[0;32m/tmp/ipykernel_3100286/812889085.py\u001b[0m in \u001b[0;36m<module>\u001b[0;34m\u001b[0m\n\u001b[1;32m      9\u001b[0m \u001b[0mconversion_cfg\u001b[0m\u001b[0;34m.\u001b[0m\u001b[0mintegrator\u001b[0m \u001b[0;34m=\u001b[0m \u001b[0ms2_nir\u001b[0m\u001b[0;34m.\u001b[0m\u001b[0mIntegratorMethod\u001b[0m\u001b[0;34m.\u001b[0m\u001b[0mFORWARD\u001b[0m \u001b[0;31m# Euler-Forward\u001b[0m\u001b[0;34m\u001b[0m\u001b[0;34m\u001b[0m\u001b[0m\n\u001b[1;32m     10\u001b[0m \u001b[0;34m\u001b[0m\u001b[0m\n\u001b[0;32m---> 11\u001b[0;31m \u001b[0mnet\u001b[0m\u001b[0;34m,\u001b[0m \u001b[0minp\u001b[0m\u001b[0;34m,\u001b[0m \u001b[0moutp\u001b[0m \u001b[0;34m=\u001b[0m \u001b[0ms2_nir\u001b[0m\u001b[0;34m.\u001b[0m\u001b[0mfrom_nir\u001b[0m\u001b[0;34m(\u001b[0m\u001b[0mnir_graph\u001b[0m\u001b[0;34m,\u001b[0m \u001b[0mconversion_cfg\u001b[0m\u001b[0;34m)\u001b[0m\u001b[0;34m\u001b[0m\u001b[0;34m\u001b[0m\u001b[0m\n\u001b[0m",
      "\u001b[0;32m~/py-spinnaker2/src/spinnaker2/s2_nir.py\u001b[0m in \u001b[0;36mfrom_nir\u001b[0;34m(nir_model, config)\u001b[0m\n\u001b[1;32m    853\u001b[0m         \u001b[0mconfig\u001b[0m \u001b[0;34m=\u001b[0m \u001b[0mConversionConfig\u001b[0m\u001b[0;34m(\u001b[0m\u001b[0;34m)\u001b[0m\u001b[0;34m\u001b[0m\u001b[0;34m\u001b[0m\u001b[0m\n\u001b[1;32m    854\u001b[0m     \u001b[0mlogger\u001b[0m\u001b[0;34m.\u001b[0m\u001b[0minfo\u001b[0m\u001b[0;34m(\u001b[0m\u001b[0;34m\"from_nir(): create spinnaker2.Network from NIR graph\"\u001b[0m\u001b[0;34m)\u001b[0m\u001b[0;34m\u001b[0m\u001b[0;34m\u001b[0m\u001b[0m\n\u001b[0;32m--> 855\u001b[0;31m     \u001b[0mpopulations\u001b[0m\u001b[0;34m,\u001b[0m \u001b[0minput_populations\u001b[0m\u001b[0;34m,\u001b[0m \u001b[0moutput_populations\u001b[0m \u001b[0;34m=\u001b[0m \u001b[0mcreate_populations\u001b[0m\u001b[0;34m(\u001b[0m\u001b[0mnir_model\u001b[0m\u001b[0;34m,\u001b[0m \u001b[0mconfig\u001b[0m\u001b[0;34m)\u001b[0m\u001b[0;34m\u001b[0m\u001b[0;34m\u001b[0m\u001b[0m\n\u001b[0m\u001b[1;32m    856\u001b[0m     \u001b[0mlogger\u001b[0m\u001b[0;34m.\u001b[0m\u001b[0minfo\u001b[0m\u001b[0;34m(\u001b[0m\u001b[0;34mf\"Created {len(populations)} populations: {[(_.name) for _ in populations]}\"\u001b[0m\u001b[0;34m)\u001b[0m\u001b[0;34m\u001b[0m\u001b[0;34m\u001b[0m\u001b[0m\n\u001b[1;32m    857\u001b[0m     \u001b[0mprojections\u001b[0m \u001b[0;34m=\u001b[0m \u001b[0mcreate_projections\u001b[0m\u001b[0;34m(\u001b[0m\u001b[0mnir_model\u001b[0m\u001b[0;34m,\u001b[0m \u001b[0mpopulations\u001b[0m\u001b[0;34m,\u001b[0m \u001b[0mdelay\u001b[0m\u001b[0;34m=\u001b[0m\u001b[0mconfig\u001b[0m\u001b[0;34m.\u001b[0m\u001b[0mconn_delay\u001b[0m\u001b[0;34m)\u001b[0m\u001b[0;34m\u001b[0m\u001b[0;34m\u001b[0m\u001b[0m\n",
      "\u001b[0;32m~/py-spinnaker2/src/spinnaker2/s2_nir.py\u001b[0m in \u001b[0;36mcreate_populations\u001b[0;34m(nir_model, config)\u001b[0m\n\u001b[1;32m    401\u001b[0m         \u001b[0mprint\u001b[0m\u001b[0;34m(\u001b[0m\u001b[0;34mf\"Got {type(node)}\"\u001b[0m\u001b[0;34m)\u001b[0m\u001b[0;34m\u001b[0m\u001b[0;34m\u001b[0m\u001b[0m\n\u001b[1;32m    402\u001b[0m         \u001b[0;32mif\u001b[0m \u001b[0misinstance\u001b[0m\u001b[0;34m(\u001b[0m\u001b[0mnode\u001b[0m\u001b[0;34m,\u001b[0m \u001b[0;34m(\u001b[0m\u001b[0mnir\u001b[0m\u001b[0;34m.\u001b[0m\u001b[0mLIF\u001b[0m\u001b[0;34m,\u001b[0m \u001b[0mnir\u001b[0m\u001b[0;34m.\u001b[0m\u001b[0mIF\u001b[0m\u001b[0;34m,\u001b[0m \u001b[0mnir\u001b[0m\u001b[0;34m.\u001b[0m\u001b[0mCubaLIF\u001b[0m\u001b[0;34m)\u001b[0m\u001b[0;34m)\u001b[0m\u001b[0;34m:\u001b[0m\u001b[0;34m\u001b[0m\u001b[0;34m\u001b[0m\u001b[0m\n\u001b[0;32m--> 403\u001b[0;31m             \u001b[0mbias\u001b[0m \u001b[0;34m=\u001b[0m \u001b[0mget_accumulated_bias\u001b[0m\u001b[0;34m(\u001b[0m\u001b[0mname\u001b[0m\u001b[0;34m,\u001b[0m \u001b[0mnir_model\u001b[0m\u001b[0;34m)\u001b[0m\u001b[0;34m\u001b[0m\u001b[0;34m\u001b[0m\u001b[0m\n\u001b[0m\u001b[1;32m    404\u001b[0m             \u001b[0mprint\u001b[0m\u001b[0;34m(\u001b[0m\u001b[0;34m\"this is the accumulated bias:\"\u001b[0m\u001b[0;34m,\u001b[0m \u001b[0mbias\u001b[0m\u001b[0;34m)\u001b[0m\u001b[0;34m\u001b[0m\u001b[0;34m\u001b[0m\u001b[0m\n\u001b[1;32m    405\u001b[0m             \u001b[0mw_scale\u001b[0m \u001b[0;34m=\u001b[0m \u001b[0;36m1.0\u001b[0m\u001b[0;34m\u001b[0m\u001b[0;34m\u001b[0m\u001b[0m\n",
      "\u001b[0;32m~/py-spinnaker2/src/spinnaker2/s2_nir.py\u001b[0m in \u001b[0;36mget_accumulated_bias\u001b[0;34m(node_name, nir_model)\u001b[0m\n\u001b[1;32m    239\u001b[0m     \u001b[0;32mfor\u001b[0m \u001b[0m_\u001b[0m\u001b[0;34m,\u001b[0m \u001b[0min_node\u001b[0m \u001b[0;32min\u001b[0m \u001b[0mget_incoming_nodes\u001b[0m\u001b[0;34m(\u001b[0m\u001b[0mnode_name\u001b[0m\u001b[0;34m,\u001b[0m \u001b[0mnir_model\u001b[0m\u001b[0;34m)\u001b[0m\u001b[0;34m:\u001b[0m\u001b[0;34m\u001b[0m\u001b[0;34m\u001b[0m\u001b[0m\n\u001b[1;32m    240\u001b[0m         \u001b[0;32mif\u001b[0m \u001b[0misinstance\u001b[0m\u001b[0;34m(\u001b[0m\u001b[0min_node\u001b[0m\u001b[0;34m,\u001b[0m \u001b[0;34m(\u001b[0m\u001b[0mnir\u001b[0m\u001b[0;34m.\u001b[0m\u001b[0mAffine\u001b[0m\u001b[0;34m,\u001b[0m \u001b[0mnir\u001b[0m\u001b[0;34m.\u001b[0m\u001b[0mConv1d\u001b[0m\u001b[0;34m,\u001b[0m \u001b[0mnir\u001b[0m\u001b[0;34m.\u001b[0m\u001b[0mConv2d\u001b[0m\u001b[0;34m)\u001b[0m\u001b[0;34m)\u001b[0m\u001b[0;34m:\u001b[0m\u001b[0;34m\u001b[0m\u001b[0;34m\u001b[0m\u001b[0m\n\u001b[0;32m--> 241\u001b[0;31m             \u001b[0mbias\u001b[0m \u001b[0;34m+=\u001b[0m \u001b[0min_node\u001b[0m\u001b[0;34m.\u001b[0m\u001b[0mbias\u001b[0m\u001b[0;34m\u001b[0m\u001b[0;34m\u001b[0m\u001b[0m\n\u001b[0m\u001b[1;32m    242\u001b[0m     \u001b[0;32mreturn\u001b[0m \u001b[0mbias\u001b[0m\u001b[0;34m.\u001b[0m\u001b[0mflatten\u001b[0m\u001b[0;34m(\u001b[0m\u001b[0;34m)\u001b[0m\u001b[0;34m\u001b[0m\u001b[0;34m\u001b[0m\u001b[0m\n\u001b[1;32m    243\u001b[0m \u001b[0;34m\u001b[0m\u001b[0m\n",
      "\u001b[0;31mValueError\u001b[0m: non-broadcastable output operand with shape () doesn't match the broadcast shape (500,)"
     ]
    }
   ],
   "source": [
    "# Configuration for converting NIR graph to SpiNNaker2\n",
    "conversion_cfg = s2_nir.ConversionConfig()\n",
    "conversion_cfg.output_record = [\"v\", \"spikes\"]\n",
    "conversion_cfg.dt = 0.0001\n",
    "conversion_cfg.conn_delay = 0\n",
    "conversion_cfg.scale_weights = False # Scale weights to dynamic range on chip\n",
    "#if set to True the weights will be scaled\n",
    "conversion_cfg.reset = s2_nir.ResetMethod.ZERO # Reset voltage to zero at spike\n",
    "conversion_cfg.integrator = s2_nir.IntegratorMethod.FORWARD # Euler-Forward\n",
    "\n",
    "net, inp, outp = s2_nir.from_nir(nir_graph, conversion_cfg)"
   ]
  },
  {
   "cell_type": "code",
   "execution_count": null,
   "metadata": {},
   "outputs": [],
   "source": []
  }
 ],
 "metadata": {
  "kernelspec": {
   "display_name": "Python 3",
   "language": "python",
   "name": "python3"
  },
  "language_info": {
   "codemirror_mode": {
    "name": "ipython",
    "version": 3
   },
   "file_extension": ".py",
   "mimetype": "text/x-python",
   "name": "python",
   "nbconvert_exporter": "python",
   "pygments_lexer": "ipython3",
   "version": "3.10.12"
  }
 },
 "nbformat": 4,
 "nbformat_minor": 2
}
