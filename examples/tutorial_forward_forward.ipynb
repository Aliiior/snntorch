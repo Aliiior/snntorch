{
  "cells": [
    {
      "cell_type": "markdown",
      "id": "47d5313e-c29d-4581-a9c7-a45122337069",
      "metadata": {
        "id": "47d5313e-c29d-4581-a9c7-a45122337069"
      },
      "source": [
        "[<img src='https://github.com/jeshraghian/snntorch/blob/master/docs/_static/img/snntorch_alpha_w.png?raw=true' width=\"300\">](https://github.com/jeshraghian/snntorch/)\n",
        "\n",
        "# The Forward-Forward Algorithm with a Spiking Neural Network\n",
        "### Tutorial written by Ethan Mulle and Abhinandan Singh\n"
      ]
    },
    {
      "cell_type": "markdown",
      "id": "oll2NNFeG1NG",
      "metadata": {
        "id": "oll2NNFeG1NG"
      },
      "source": [
        "The following tutorial introduces how to implement the Forward-Forward algorithm proposed by Geoffrey Hinton into a spiking neural network (SNN).\n",
        "> <cite> [Geoffrey Hinton. The Forward-Forward Algorithm: Some Preliminary\n",
        "Investigations. 2022. arXiv: 2212.13345 [cs.LG].](https://arxiv.org/abs/2212.13345) </cite>\n",
        "\n",
        "The Forward-Forward algorithm is inspired from a model of learning in the cortex, and offers a potentially low-power, local, backprop-free alternative to training a model. Of course, it is a challenging algorithm to scale up to more challenging tasks. But this is a good starting point to learn from.\n",
        "\n",
        "For a comprehensive overview on how SNNs work, and what is going on under the hood, [then you might be interested in the snnTorch tutorial series available here.](https://snntorch.readthedocs.io/en/latest/tutorials/index.html)\n",
        "The snnTorch tutorial series is based on the following paper. If you find these resources or code useful in your work, please consider citing the following source:\n",
        "\n",
        "> <cite> [Jason K. Eshraghian, Max Ward, Emre Neftci, Xinxin Wang, Gregor Lenz, Girish Dwivedi, Mohammed Bennamoun, Doo Seok Jeong, and Wei D. Lu. \"Training Spiking Neural Networks Using Lessons From Deep Learning\". Proceedings of the IEEE, 111(9) September 2023.](https://ieeexplore.ieee.org/abstract/document/10242251) </cite>"
      ]
    },
    {
      "cell_type": "markdown",
      "id": "ELOnnEYi4YY8",
      "metadata": {
        "id": "ELOnnEYi4YY8"
      },
      "source": [
        "Install the latest PyPi distribution of snnTorch by clicking into the following cell and pressing `Shift+Enter`."
      ]
    },
    {
      "cell_type": "code",
      "execution_count": 8,
      "id": "hDnIEHOKB8LD",
      "metadata": {
        "colab": {
          "base_uri": "https://localhost:8080/"
        },
        "id": "hDnIEHOKB8LD",
        "outputId": "8914c89f-07eb-4c55-fa26-023f6fbd6ac2"
      },
      "outputs": [],
      "source": [
        "!pip install snntorch --quiet"
      ]
    },
    {
      "cell_type": "code",
      "execution_count": 1,
      "id": "WL487gZW1Agy",
      "metadata": {
        "id": "WL487gZW1Agy"
      },
      "outputs": [],
      "source": [
        "import torch, torch.nn as nn\n",
        "import snntorch as snn\n",
        "device = torch.device(\"cuda\") if torch.cuda.is_available() else torch.device(\"cpu\")"
      ]
    },
    {
      "cell_type": "markdown",
      "id": "EYf13Gtx1OCj",
      "metadata": {
        "id": "EYf13Gtx1OCj"
      },
      "source": [
        "## 1. The MNIST Dataset\n",
        "\n",
        "### 1.1 Dataloading\n",
        "\n",
        "- Set up dataloaders for the MNIST training and test datasets.\n",
        "\n",
        "- Define a data transformation pipeline, and iterate over the first batch of the training loader to inspect the size of the data.\n",
        "\n",
        "- The transformations include converting images to grayscale, transforming them to tensors, normalizing pixel values, and flattening the tensors."
      ]
    },
    {
      "cell_type": "code",
      "execution_count": 2,
      "id": "3GdglZjK04cb",
      "metadata": {
        "colab": {
          "base_uri": "https://localhost:8080/"
        },
        "id": "3GdglZjK04cb",
        "outputId": "bdc684d2-4feb-458a-c2f2-2525121756d3"
      },
      "outputs": [],
      "source": [
        "from torchvision.datasets import MNIST\n",
        "from torchvision.transforms import Compose, Grayscale, ToTensor, Normalize, Lambda\n",
        "from torch.utils.data import DataLoader\n",
        "\n",
        "\n",
        "transform = Compose([\n",
        "    Grayscale(),\n",
        "    ToTensor(),\n",
        "    Normalize((0,), (1,)),\n",
        "    Lambda(lambda x: torch.flatten(x))])\n",
        "\n",
        "# Train set\n",
        "mnist_train = MNIST('./data/', train=True, download=True, transform=transform)\n",
        "train_loader = DataLoader(mnist_train, batch_size=128, shuffle=True)\n",
        "\n",
        "# Test set\n",
        "mnist_test = MNIST('./data/', train=False, download=True, transform=transform)\n",
        "test_loader = DataLoader(mnist_train, batch_size=128, shuffle=False)"
      ]
    },
    {
      "cell_type": "markdown",
      "id": "XOT9ESAC5d1G",
      "metadata": {
        "id": "XOT9ESAC5d1G"
      },
      "source": [
        "## 2. Forward-Forward Algorithm Theory\n",
        "The Forward-Forward algorithm is a learning rule inspired by Boltzmann machines and Noise Contrastive Estimation. The core idea is that each layer learns to tell apart *positive* examples (which we treat as '*good*') from *negative* examples (which we treat as '*bad*'. It works by replacing the forward and backward passes of backpropagation with two forward passes:\n",
        "- The positive pass\n",
        "- The negative pass. \n",
        "\n",
        "In the positive pass, a training example plus its label is fed through the network. Every layer computes a *goodness* measure (e.g., sum of squared neuron outputs). The weights are updated to *increase* goodness for that class's *correct* examples.  \n",
        "\n",
        "In teh negative pass, we feed in *bad* examples. For example, the same input might be applied with the *wrong* class label. The network again measures the goodness in each layer, but now the weights are updated to decrease goodness. It is thought that over many iterations, each layer refines local filters or patterns that best distinguish each class from noise or other classes, without needing a global backpropagation signal. \n",
        "\n",
        "A high-level illustration of the algorithm is shown below.\n",
        "\n",
        "<center>\n",
        "<img src='https://github.com/jeshraghian/snntorch/blob/master/docs/_static/img/examples/tutorial_forward-forward/forward-forward.png?raw=true' width=\"800\">\n",
        "</center>"
      ]
    },
    {
      "cell_type": "markdown",
      "id": "B1B_tzLsihYM",
      "metadata": {
        "id": "B1B_tzLsihYM"
      },
      "source": [
        "Hinton proposes that goodness can be measured through a metric, such as the sum of the square of neural activities. The goal is to make the goodness to exceed some threshold value for real data and to fall below the thresholdfor negative data. In practice, Hinton applies the sigmoid function $\\sigma$ to this deviation from the threshold $\\theta$ such that the result can be interpreted as the probability that an input vector is positive (i.e., real):\n",
        "\n",
        "\\begin{equation}\n",
        "    p(positive) = \\sigma \\left(\\sum_j y_j^2 - \\theta \\right)\n",
        "\\end{equation}\n",
        "\n",
        "where $y_j$ is the activity of hidden unit $j$."
      ]
    },
    {
      "cell_type": "markdown",
      "id": "GB77EmhgfaN0",
      "metadata": {
        "id": "GB77EmhgfaN0"
      },
      "source": [
        "## 3. Implementation\n",
        "We follow and modify the Forward-Forward algorithm implementation found here:\n",
        "> <cite> [Mohammad Pezeshki. pytorch_forward_forward. Github Repo January 2023.](https://github.com/mpezeshki/pytorch_forward_forward) </cite>\n",
        "\n",
        "To do so, we must define both a layer and a network class."
      ]
    },
    {
      "cell_type": "markdown",
      "id": "4D_1BCXKkRbe",
      "metadata": {
        "id": "4D_1BCXKkRbe"
      },
      "source": [
        "### 3.1 Defining the Layer Class\n",
        "- **LeakyLayer**: is a custom leaky integrate-and-fire layer with additional attributes. The class is designed to be used as a layer in a neural network.\n",
        "\n",
        "- The **forward method**: defines the computations for a forward pass through the 'LeakyLayer'. The membrane potential is initialized, the input is normalized and weighted, and then passed through a leaky integrate-and-fire neuron, in order to return the resulting membrane potential. \n",
        "\n",
        "- The **train method**: performs a training loop over a specified number of epochs. It computes the goodness for positive and negative data, calculates the loss based on these goodness values, locally backpropagates the gradients, and updates the parameters using the optimizer. The method returns the membrane potentials for positive and negative data after training."
      ]
    },
    {
      "cell_type": "code",
      "execution_count": 3,
      "id": "EqjAjimIkZLu",
      "metadata": {
        "id": "EqjAjimIkZLu"
      },
      "outputs": [],
      "source": [
        "from tqdm import tqdm\n",
        "from torch.optim import Adam\n",
        "import torch.nn.functional as F\n",
        "\n",
        "class LeakyLayer(nn.Linear):\n",
        "\n",
        "    def __init__(self, in_features, out_features, activation, bias=False):\n",
        "        super().__init__(in_features, out_features, bias=bias)\n",
        "\n",
        "        # Enable the choice between a spiking neuron and a standard artificial neuron (ReLU activation)\n",
        "        if activation == \"lif\":\n",
        "          self.activation = snn.Leaky(beta=0.8)\n",
        "          self.lif = True\n",
        "        else:\n",
        "          self.activation = nn.ReLU()\n",
        "          self.lif = False\n",
        "\n",
        "        self.opt = Adam(self.parameters(), lr=0.03)\n",
        "        self.threshold = 5.0\n",
        "        self.num_epochs = 1000\n",
        "\n",
        "    def forward(self, x):\n",
        "        if self.lif == True:\n",
        "          mem = self.activation.init_leaky() # initialize membrane potential\n",
        "\n",
        "        x_direction = x / (torch.norm(x, p=2, dim=1, keepdim=True) + 1e-4) # normalize the input\n",
        "\n",
        "        # Linear layer - not using nn.Linear(...) so we can define the update rule\n",
        "        weighted_input = torch.mm(x_direction, self.weight.T.to(device)) # MatMul between normalized input and weight matrix\n",
        "\n",
        "        if self.lif == True:\n",
        "          spk, potential = self.activation(weighted_input, mem) # note: only one step in time. Wrap in a for-loop to iterate for longer.\n",
        "        else:\n",
        "          potential = self.activation(weighted_input)\n",
        "\n",
        "        return potential  # to be used in subsequent layers or as the final output of the last layer\n",
        "\n",
        "    def train(self, x_pos, x_neg):\n",
        "\n",
        "        for _ in tqdm(range(self.num_epochs), desc=\"Training LeakyLayer\"):\n",
        "\n",
        "            # Compute goodness\n",
        "            g_pos = self.forward(x_pos).pow(2).mean(1) # positive data\n",
        "            g_neg = self.forward(x_neg).pow(2).mean(1) # negative data\n",
        "\n",
        "            # take the mean of differences between goodness and threshold across pos and neg samples\n",
        "            loss = F.softplus(torch.cat([-g_pos + self.threshold, g_neg - self.threshold])).mean()\n",
        "\n",
        "            self.opt.zero_grad()\n",
        "            loss.backward() # local backward-pass\n",
        "            self.opt.step() # update weights\n",
        "        \n",
        "        # returns the final membrane potentials (activations) for positive and negative examples after training.\n",
        "        # detach() ensures no further backward pass is possible\n",
        "        output = self.forward(x_pos).detach(), self.forward(x_neg).detach()  \n",
        "\n",
        "        return output\n"
      ]
    },
    {
      "cell_type": "markdown",
      "id": "Shh0lapBkZxO",
      "metadata": {
        "id": "Shh0lapBkZxO"
      },
      "source": [
        "### 3.2 Defining the Network\n",
        "\n",
        "- The **predict** method overlays label information onto the input, passes it through each layer of the neural network, computes goodness values at each layer, accumulates them for each label, and returns the predicted labels based on the maximum goodness.\n",
        "\n",
        "- The **train** method iterates over the layers of the neural network, prints information about the current layer being trained, and updates the input tensors ('h_pos' and 'h_neg') by calling the 'train' method of each layer. This allows the layers to learn and adapt their parameters during the training process."
      ]
    },
    {
      "cell_type": "code",
      "execution_count": 4,
      "id": "5qkfsA69aEcQ",
      "metadata": {
        "id": "5qkfsA69aEcQ"
      },
      "outputs": [],
      "source": [
        "class Net(nn.Module):\n",
        "\n",
        "    def __init__(self, dims, activation):\n",
        "        super().__init__()\n",
        "\n",
        "        self.layers = nn.ModuleList([\n",
        "            LeakyLayer(dims[d], dims[d + 1], activation) for d in range(len(dims) - 1)  # define a multi-layer network\n",
        "        ])\n",
        "\n",
        "\n",
        "    def predict(self, x):\n",
        "        goodness_per_label = [] # used to store the goodness values for each label\n",
        "\n",
        "        for label in range(10): # loop over the 10 possible labels\n",
        "            h = overlay_y_on_x(x, label)  # overlay label information on top of the input data. function defined in next code-block.\n",
        "            goodness = []\n",
        "\n",
        "            for layer in self.layers: # inner loop over the layers\n",
        "                h = layer(h)\n",
        "                goodness.append(h.pow(2).mean(1)) # compute and store goodness for every layer\n",
        "\n",
        "            goodness_per_label.append(sum(goodness).unsqueeze(1)) # sum goodness values between all layers for one sample of data\n",
        "\n",
        "        goodness_per_label = torch.cat(goodness_per_label, 1)  # convert list to tensor\n",
        "\n",
        "        return goodness_per_label.argmax(1)  # returns maximum value giving the predicted label for each input\n",
        "\n",
        "    def train(self, x_pos, x_neg):\n",
        "\n",
        "        h_pos, h_neg = x_pos, x_neg\n",
        "        for i, layer in enumerate(self.layers):\n",
        "            print('Training layer', i, '...')\n",
        "            h_pos, h_neg = layer.train(h_pos, h_neg)  # update the weight matrix for each layer based on the local loss (defined by \"goodness\")"
      ]
    },
    {
      "cell_type": "markdown",
      "id": "lY2WozWrkwBp",
      "metadata": {
        "id": "lY2WozWrkwBp"
      },
      "source": [
        "## 4. Training the Network"
      ]
    },
    {
      "cell_type": "markdown",
      "id": "6741ee0b",
      "metadata": {},
      "source": [
        "### 4.1 Generate data sampels\n",
        "\n",
        "Before training, we need to get our datasets in a format that is required by the Forward-Forward algorithm. Recall that the labels and input data are somehow going to be combined.\n",
        "\n",
        "- The **'overlay_y_on_x'** function:\n",
        "    - **Input: 'x'**: input data tensor \n",
        "    - **Input: 'y'**: input label\n",
        "    - **Output: 'x_'**: The first 10 pixels of *x* are zero'd out and replaced with a one-hot-encoded representation of the label *y*. I.e., the label is 'printed' in pixel form on the input. The y-label can also be randomized to generate wrong labels, or 'negative' samples.\n",
        "\n",
        "This function is applied to the MNIST dataset and passed to your network. Each layer is updated based on the goodness function above."
      ]
    },
    {
      "cell_type": "code",
      "execution_count": 6,
      "id": "5c8569be",
      "metadata": {},
      "outputs": [],
      "source": [
        "import matplotlib.pyplot as plt\n",
        "\n",
        "def overlay_y_on_x(x, y):\n",
        "    \"\"\"Replace the first 10 pixels of data [x] with one-hot-encoded label [y]\"\"\"\n",
        "    x_ = x.clone()\n",
        "    x_[:, :10] *= 0.0  # zero out the first 10 pixels of input data\n",
        "    x_[range(x.shape[0]), y] = x.max()  # the y-label 'activates' the corresponding pixel\n",
        "    return x_\n",
        "\n",
        "def visualize_sample(data, name='', idx=0):\n",
        "    reshaped = data[idx].cpu().reshape(28, 28)\n",
        "    plt.figure(figsize = (4, 4))\n",
        "    plt.title(name)\n",
        "    plt.imshow(reshaped, cmap=\"gray\")\n",
        "    plt.show()"
      ]
    },
    {
      "cell_type": "markdown",
      "id": "68d57642",
      "metadata": {},
      "source": [
        "### 4.2 Visualize Data Samples"
      ]
    },
    {
      "cell_type": "code",
      "execution_count": 14,
      "id": "ym6ZuGxRkyji",
      "metadata": {
        "colab": {
          "base_uri": "https://localhost:8080/",
          "height": 1000
        },
        "id": "ym6ZuGxRkyji",
        "outputId": "c708d241-1fd4-4091-837f-ec19282b9873"
      },
      "outputs": [
        {
          "data": {
            "image/png": "[encoded data removed]",
            "text/plain": [
              "<Figure size 400x400 with 1 Axes>"
            ]
          },
          "metadata": {},
          "output_type": "display_data"
        },
        {
          "data": {
            "image/png": "[encoded data removed]",
            "text/plain": [
              "<Figure size 400x400 with 1 Axes>"
            ]
          },
          "metadata": {},
          "output_type": "display_data"
        },
        {
          "data": {
            "image/png": "[encoded data removed]",
            "text/plain": [
              "<Figure size 400x400 with 1 Axes>"
            ]
          },
          "metadata": {},
          "output_type": "display_data"
        }
      ],
      "source": [
        "torch.manual_seed(123)\n",
        "net = Net([784, 500, 500],\"lif\").to(device) # construct neural net with 784 input neurons, 500 neurons in each of the two hidden layers\n",
        "x, y = next(iter(train_loader))\n",
        "x, y = x.to(device), y.to(device)\n",
        "\n",
        "x_pos = overlay_y_on_x(x, y)  # generate positive samples (i.e., correct labels overlayed on input data)\n",
        "\n",
        "# generate negative samples (i.e., incorrect labels overlayed on input data)\n",
        "rnd = torch.randperm(x.size(0))\n",
        "x_neg = overlay_y_on_x(x, y[rnd])  # \n",
        "\n",
        "# visualize samples\n",
        "for data, name in zip([x, x_pos, x_neg], ['orig', 'pos', 'neg']):\n",
        "    visualize_sample(data, name)"
      ]
    },
    {
      "cell_type": "markdown",
      "id": "568475ac",
      "metadata": {},
      "source": [
        "### 4.3 Training the Network"
      ]
    },
    {
      "cell_type": "code",
      "execution_count": 15,
      "id": "63be0e05",
      "metadata": {},
      "outputs": [
        {
          "name": "stdout",
          "output_type": "stream",
          "text": [
            "Training layer 0 ...\n"
          ]
        },
        {
          "name": "stderr",
          "output_type": "stream",
          "text": [
            "Training LeakyLayer: 100%|██████████| 1000/1000 [00:02<00:00, 395.98it/s]\n"
          ]
        },
        {
          "name": "stdout",
          "output_type": "stream",
          "text": [
            "Training layer 1 ...\n"
          ]
        },
        {
          "name": "stderr",
          "output_type": "stream",
          "text": [
            "Training LeakyLayer: 100%|██████████| 1000/1000 [00:02<00:00, 437.17it/s]"
          ]
        },
        {
          "name": "stdout",
          "output_type": "stream",
          "text": [
            "Train error: 42.1875 %\n"
          ]
        },
        {
          "name": "stderr",
          "output_type": "stream",
          "text": [
            "\n"
          ]
        }
      ],
      "source": [
        "net.train(x_pos, x_neg)\n",
        "print('Train error:', 100*(1.0 - net.predict(x).eq(y).float().mean().item()),'%')"
      ]
    },
    {
      "cell_type": "markdown",
      "id": "LTJonZ4elIXf",
      "metadata": {
        "id": "LTJonZ4elIXf"
      },
      "source": [
        "## 5. Testing the Network"
      ]
    },
    {
      "cell_type": "code",
      "execution_count": 16,
      "id": "74rCTBPRlK1u",
      "metadata": {
        "colab": {
          "base_uri": "https://localhost:8080/"
        },
        "id": "74rCTBPRlK1u",
        "outputId": "4620e93a-11cc-4ea0-a602-0df1a14c8697"
      },
      "outputs": [
        {
          "name": "stdout",
          "output_type": "stream",
          "text": [
            "Test error: 70.3125 %\n"
          ]
        }
      ],
      "source": [
        "x_te, y_te = next(iter(test_loader))\n",
        "x_te, y_te = x_te.to(device), y_te.to(device)\n",
        "\n",
        "print('Test error:', 100*(1.0 - net.predict(x_te).eq(y_te).float().mean().item()), '%')"
      ]
    },
    {
      "cell_type": "markdown",
      "id": "43Tf1Hpfkn7m",
      "metadata": {
        "id": "43Tf1Hpfkn7m"
      },
      "source": [
        "## 6. Plotting the Loss of Each Layer\n",
        "- The previous Layer and Network code is redefined here, slightly modified to allow for the tracking and plotting of each layer's loss over the given amount of epochs.\n",
        "- This consumes a lot of GPU RAM, so the size of the model and number of epochs has been greatly reduced.\n",
        "- The resulting model is quite inaccurate, but provides a good visualization of how each layer's loss decreases over time."
      ]
    },
    {
      "cell_type": "code",
      "execution_count": null,
      "id": "F_3gmsPbe5-9",
      "metadata": {
        "colab": {
          "base_uri": "https://localhost:8080/",
          "height": 1000
        },
        "id": "F_3gmsPbe5-9",
        "outputId": "d0ef4339-3a64-4ef2-c998-5973dd66d520"
      },
      "outputs": [
        {
          "data": {
            "image/png": "[encoded data removed]",
            "text/plain": [
              "<Figure size 400x400 with 1 Axes>"
            ]
          },
          "metadata": {},
          "output_type": "display_data"
        },
        {
          "data": {
            "image/png": "[encoded data removed]",
            "text/plain": [
              "<Figure size 400x400 with 1 Axes>"
            ]
          },
          "metadata": {},
          "output_type": "display_data"
        },
        {
          "data": {
            "image/png": "[encoded data removed]",
            "text/plain": [
              "<Figure size 400x400 with 1 Axes>"
            ]
          },
          "metadata": {},
          "output_type": "display_data"
        },
        {
          "name": "stdout",
          "output_type": "stream",
          "text": [
            "Training layer 0 ...\n"
          ]
        },
        {
          "name": "stderr",
          "output_type": "stream",
          "text": [
            "Training LeakyLayer: 100%|██████████| 100/100 [00:00<00:00, 485.89it/s]\n"
          ]
        },
        {
          "name": "stdout",
          "output_type": "stream",
          "text": [
            "Training layer 1 ...\n"
          ]
        },
        {
          "name": "stderr",
          "output_type": "stream",
          "text": [
            "Training LeakyLayer: 100%|██████████| 100/100 [00:00<00:00, 497.58it/s]"
          ]
        },
        {
          "name": "stdout",
          "output_type": "stream",
          "text": [
            "train error: 0.84375\n",
            "test error: 0.84375\n"
          ]
        },
        {
          "name": "stderr",
          "output_type": "stream",
          "text": [
            "\n"
          ]
        }
      ],
      "source": [
        "from tqdm import tqdm\n",
        "from torch.optim import Adam\n",
        "import matplotlib.pyplot as plt\n",
        "import torch.nn.functional as F\n",
        "\n",
        "def overlay_y_on_x(x, y):\n",
        "    x_ = x.clone()\n",
        "    x_[:, :10] *= 0.0\n",
        "    x_[range(x.shape[0]), y] = x.max()\n",
        "    return x_\n",
        "\n",
        "\n",
        "class LeakyLayer(nn.Linear):\n",
        "    def __init__(self, in_features, out_features, bias=False):\n",
        "        super().__init__(in_features, out_features, bias=bias)\n",
        "        self.lif = snn.Leaky(beta=0.8)\n",
        "        self.opt = Adam(self.parameters(), lr=0.03)\n",
        "        self.threshold = 5.0\n",
        "        self.num_epochs = 100\n",
        "\n",
        "    def forward(self, x):\n",
        "        mem = self.lif.init_leaky()\n",
        "        x_direction = x / (torch.norm(x, p=2, dim=1, keepdim=True) + 1e-4)\n",
        "        weighted_input = torch.mm(x_direction, self.weight.T.to(device))\n",
        "        spk, potential = self.lif(weighted_input, mem)\n",
        "        return potential\n",
        "\n",
        "    def train(self, x_pos, x_neg):\n",
        "        tot_loss = []\n",
        "        for _ in tqdm(range(self.num_epochs), desc=\"Training LeakyLayer\"):\n",
        "            g_pos = self.forward(x_pos).pow(2).mean(1)\n",
        "            g_neg = self.forward(x_neg).pow(2).mean(1)\n",
        "            loss = F.softplus(torch.cat([-g_pos + self.threshold, g_neg - self.threshold])).mean()\n",
        "            self.opt.zero_grad()\n",
        "            loss.backward()\n",
        "            self.opt.step()\n",
        "            tot_loss.append(loss)\n",
        "        return self.forward(x_pos).detach(), self.forward(x_neg).detach(), tot_loss\n",
        "\n",
        "class Net(nn.Module):\n",
        "    def __init__(self, dims):\n",
        "        super().__init__()\n",
        "        self.layers = nn.ModuleList([\n",
        "            LeakyLayer(dims[d], dims[d + 1]) for d in range(len(dims) - 1)\n",
        "        ])\n",
        "\n",
        "    def predict(self, x):\n",
        "        goodness_per_label = []\n",
        "        for label in range(10):\n",
        "            h = overlay_y_on_x(x, label)\n",
        "            goodness = []\n",
        "            for layer in self.layers:\n",
        "                h = layer(h)\n",
        "                goodness.append(h.pow(2).mean(1))\n",
        "            goodness_per_label.append(sum(goodness).unsqueeze(1))\n",
        "        goodness_per_label = torch.cat(goodness_per_label, 1)\n",
        "        return goodness_per_label.argmax(1)\n",
        "\n",
        "    def train(self, x_pos, x_neg):\n",
        "        h_pos, h_neg = x_pos, x_neg\n",
        "        layer_losses = []\n",
        "        for i, layer in enumerate(self.layers):\n",
        "            print('Training layer', i, '...')\n",
        "            h_pos, h_neg, tot_loss = layer.train(h_pos, h_neg)\n",
        "            layer_losses.append(tot_loss)\n",
        "        return torch.Tensor(layer_losses)\n",
        "\n",
        "def visualize_sample(data, name='', idx=0):\n",
        "    reshaped = data[idx].cpu().reshape(28, 28)\n",
        "    plt.figure(figsize = (4, 4))\n",
        "    plt.title(name)\n",
        "    plt.imshow(reshaped, cmap=\"gray\")\n",
        "    plt.show()\n",
        "\n",
        "\n",
        "torch.manual_seed(123)\n",
        "\n",
        "# define network\n",
        "net = Net([784, 50, 50]).to(device)\n",
        "\n",
        "# define data\n",
        "x, y = next(iter(train_loader))\n",
        "x, y = x.to(device), y.to(device)\n",
        "x_pos = overlay_y_on_x(x, y)\n",
        "rnd = torch.randperm(x.size(0))\n",
        "x_neg = overlay_y_on_x(x, y[rnd])\n",
        "\n",
        "# visualize sample\n",
        "for data, name in zip([x, x_pos, x_neg], ['orig', 'pos', 'neg']):\n",
        "    visualize_sample(data, name)\n",
        "\n",
        "# train network\n",
        "layer_losses = net.train(x_pos, x_neg)\n",
        "\n",
        "print('Train error:', 1.0 - net.predict(x).eq(y).float().mean().item())\n",
        "\n",
        "x_te, y_te = next(iter(test_loader))\n",
        "x_te, y_te = x_te.to(device), y_te.to(device)\n",
        "\n",
        "print('Test error:', 1.0 - net.predict(x_te).eq(y_te).float().mean().item())"
      ]
    },
    {
      "cell_type": "code",
      "execution_count": 19,
      "id": "cN7wLeKGgXq3",
      "metadata": {
        "colab": {
          "base_uri": "https://localhost:8080/",
          "height": 449
        },
        "id": "cN7wLeKGgXq3",
        "outputId": "c8c447af-8c40-4dce-d502-e9fbc43ea0b3"
      },
      "outputs": [
        {
          "data": {
            "image/png": "[encoded data removed]",
            "text/plain": [
              "<Figure size 640x480 with 1 Axes>"
            ]
          },
          "metadata": {},
          "output_type": "display_data"
        }
      ],
      "source": [
        "plt.plot(layer_losses[0,:], label=\"Layer 1 Loss\")\n",
        "plt.plot(layer_losses[1,:], label=\"Layer 2 Loss\")\n",
        "plt.xlabel(\"Epoch\")\n",
        "plt.ylabel(\"Loss\")\n",
        "plt.legend()\n",
        "plt.show()"
      ]
    },
    {
      "cell_type": "markdown",
      "id": "E0ncALQA5T7N",
      "metadata": {
        "id": "E0ncALQA5T7N"
      },
      "source": [
        "# Train the Network using ReLU instead of LIF Activation\n",
        "\n",
        "*   To compare, we can also train and test the same network architecture on the same data, except now using ReLU as the activation function instead of LIF.\n",
        "*   Running this cell provides a training error and a test error of approximately 10% each.\n",
        "\n",
        "\n"
      ]
    },
    {
      "cell_type": "code",
      "execution_count": null,
      "id": "Y40FBDxD5Pf5",
      "metadata": {
        "colab": {
          "base_uri": "https://localhost:8080/",
          "height": 1000
        },
        "id": "Y40FBDxD5Pf5",
        "outputId": "bc984b64-ad95-4474-d0de-cda05904950c"
      },
      "outputs": [
        {
          "ename": "TypeError",
          "evalue": "Net.__init__() takes 2 positional arguments but 3 were given",
          "output_type": "error",
          "traceback": [
            "\u001b[1;31m---------------------------------------------------------------------------\u001b[0m",
            "\u001b[1;31mTypeError\u001b[0m                                 Traceback (most recent call last)",
            "Cell \u001b[1;32mIn[20], line 2\u001b[0m\n\u001b[0;32m      1\u001b[0m \u001b[38;5;66;03m# **CREATE NEURAL NETWORK**\u001b[39;00m\n\u001b[1;32m----> 2\u001b[0m net \u001b[38;5;241m=\u001b[39m \u001b[43mNet\u001b[49m\u001b[43m(\u001b[49m\u001b[43m[\u001b[49m\u001b[38;5;241;43m784\u001b[39;49m\u001b[43m,\u001b[49m\u001b[43m \u001b[49m\u001b[38;5;241;43m500\u001b[39;49m\u001b[43m,\u001b[49m\u001b[43m \u001b[49m\u001b[38;5;241;43m500\u001b[39;49m\u001b[43m]\u001b[49m\u001b[43m,\u001b[49m\u001b[38;5;124;43m\"\u001b[39;49m\u001b[38;5;124;43mrelu\u001b[39;49m\u001b[38;5;124;43m\"\u001b[39;49m\u001b[43m)\u001b[49m\n\u001b[0;32m      3\u001b[0m   \u001b[38;5;66;03m# creates an instance of the 'Net' class with a neural network architecture defined by the list [784, 500, 500].\u001b[39;00m\n\u001b[0;32m      4\u001b[0m   \u001b[38;5;66;03m# this architecture has an input layer with 784 neurons, followed by two hidden layers with 500 neurons each.\u001b[39;00m\n\u001b[0;32m      5\u001b[0m \n\u001b[0;32m      6\u001b[0m \u001b[38;5;66;03m# **LOAD AND PRE-PROCESS DATA**\u001b[39;00m\n\u001b[0;32m      7\u001b[0m x, y \u001b[38;5;241m=\u001b[39m \u001b[38;5;28mnext\u001b[39m(\u001b[38;5;28miter\u001b[39m(train_loader))\n",
            "\u001b[1;31mTypeError\u001b[0m: Net.__init__() takes 2 positional arguments but 3 were given"
          ]
        }
      ],
      "source": [
        "# **CREATE NEURAL NETWORK**\n",
        "net = Net([784, 500, 500], \"relu\")\n",
        "  # creates an instance of the 'Net' class with a neural network architecture defined by the list [784, 500, 500].\n",
        "  # this architecture has an input layer with 784 neurons, followed by two hidden layers with 500 neurons each.\n",
        "\n",
        "# **LOAD AND PRE-PROCESS DATA**\n",
        "x, y = next(iter(train_loader))\n",
        "  # loads a batch of training data ('x' and corresponding labels 'y') using the 'train_loader'.\n",
        "x, y = x.to(device), y.to(device)\n",
        "  # moves the data to the specified device.\n",
        "\n",
        "# **OVERLAY LABELS OVER DATA**\n",
        "x_pos = overlay_y_on_x(x, y)\n",
        "  # generates positive examples ('x_pos') by overlaying one-hot-encoded labels on the input data.\n",
        "rnd = torch.randperm(x.size(0))\n",
        "  # generates a random permutation of indices.\n",
        "x_neg = overlay_y_on_x(x, y[rnd])\n",
        "  # generates negative examples ('x_neg') by overlaying one-hot-encoded labels on the input data using the randomly permuted labels.\n",
        "for data, name in zip([x, x_pos, x_neg], ['orig', 'pos', 'neg']):\n",
        "    # **VISUALIZE SAMPLES**\n",
        "    visualize_sample(data, name)\n",
        "      # displays original ('x'), positive ('x_pos'), and negative ('x_neg') examples.\n",
        "\n",
        "# **TRAIN THE NEURAL NETWORK**\n",
        "net.train(x_pos, x_neg)\n",
        "  # calls the 'train' method of the neural network ('net') with positive and negative examples for training.\n",
        "\n",
        "# **EVALUATE TRAINING ERROR**\n",
        "print('train error:', 100*(1.0 - net.predict(x).eq(y).float().mean().item()),'%')\n",
        "  # performs predictions on the original data ('x') using the trained network, calculates the error rate, and prints it\n",
        "\n",
        "# **LOAD AND PRE-PROCESS TEST DATA**\n",
        "x_te, y_te = next(iter(test_loader))\n",
        "  # loads a batch of test data ('x_te' and corresponding labels 'y_te') using the 'test_loader'.\n",
        "x_te, y_te = x_te.to(device), y_te.to(device)\n",
        "  # moves the test data to the specified device.\n",
        "\n",
        "# **EVALUATE TEST ERROR**\n",
        "print('test error:', 100*(1.0 - net.predict(x_te).eq(y_te).float().mean().item()),'%')\n",
        "  # performs predictions on the test data ('x_te') using the trained network ('net'), calculates the error rate, and prints it."
      ]
    },
    {
      "cell_type": "markdown",
      "id": "Oa2jm154zvGH",
      "metadata": {
        "id": "Oa2jm154zvGH"
      },
      "source": [
        "# Comparison to ANNs and SNNs using Backpropagation\n",
        "As shown in [this Keras example](https://www.tensorflow.org/datasets/keras_example), a standard artificial neural network using backpropagation with similar architecure and hyperparameters attains a test set error of about 2.50%.\n",
        "\n",
        "As shown in [the snnTorch Tutorial 5 documentation](https://snntorch.readthedocs.io/en/latest/tutorials/tutorial_5.html), a spiking neural network using backpropagation with the same architecture and similar set hyperparameters attains a test set error of about 6.13%."
      ]
    },
    {
      "cell_type": "markdown",
      "id": "-iSGTq0Q3Lcm",
      "metadata": {
        "id": "-iSGTq0Q3Lcm"
      },
      "source": [
        "# Conclusion\n",
        "- We have trained a spiking neural network and standard artificial neural network to classify the MNIST dataset using the Forward-Forward algorithm instead of backpropagation.\n",
        "- Overall, the Forward-Forward algorithm appears to be a viable method for training neural networks, though it is less performant than using backpropagation.\n",
        "- The spiking neural network using the Forward-Forward algorithm is less performant than the artifical neural network with ReLU using it. Both perform worse than a spiking neural network or artificial neural network using backpropagation.\n"
      ]
    },
    {
      "cell_type": "markdown",
      "id": "0aIXWPOHkiD1",
      "metadata": {
        "id": "0aIXWPOHkiD1"
      },
      "source": [
        "# References\n",
        "> <cite> [Geoffrey Hinton. The Forward-Forward Algorithm: Some Preliminary\n",
        "Investigations. 2022. arXiv: 2212.13345 [cs.LG].](https://arxiv.org/abs/2212.13345) </cite>\n",
        "\n",
        "> <cite> [Mohammad Pezeshki. pytorch_forward_forward. Github Repo January 2023.](https://github.com/mpezeshki/pytorch_forward_forward) </cite>"
      ]
    }
  ],
  "metadata": {
    "accelerator": "GPU",
    "colab": {
      "gpuType": "T4",
      "provenance": [],
      "toc_visible": true
    },
    "kernelspec": {
      "display_name": "snnenv-home",
      "language": "python",
      "name": "python3"
    },
    "language_info": {
      "codemirror_mode": {
        "name": "ipython",
        "version": 3
      },
      "file_extension": ".py",
      "mimetype": "text/x-python",
      "name": "python",
      "nbconvert_exporter": "python",
      "pygments_lexer": "ipython3",
      "version": "3.13.2"
    }
  },
  "nbformat": 4,
  "nbformat_minor": 5
}
